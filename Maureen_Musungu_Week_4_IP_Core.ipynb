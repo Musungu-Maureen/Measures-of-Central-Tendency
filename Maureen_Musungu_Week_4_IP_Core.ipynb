{
  "nbformat": 4,
  "nbformat_minor": 0,
  "metadata": {
    "colab": {
      "name": "Maureen Musungu Week 4 IP Core",
      "provenance": [],
      "toc_visible": true,
      "authorship_tag": "ABX9TyPkFeLQN4Np0Q1RFqQll3sH",
      "include_colab_link": true
    },
    "kernelspec": {
      "name": "python3",
      "display_name": "Python 3"
    },
    "language_info": {
      "name": "python"
    }
  },
  "cells": [
    {
      "cell_type": "markdown",
      "metadata": {
        "id": "view-in-github",
        "colab_type": "text"
      },
      "source": [
        "<a href=\"https://colab.research.google.com/github/Musungu-Maureen/WEEK_4_IP_CORE/blob/main/Maureen_Musungu_Week_4_IP_Core.ipynb\" target=\"_parent\"><img src=\"https://colab.research.google.com/assets/colab-badge.svg\" alt=\"Open In Colab\"/></a>"
      ]
    },
    {
      "cell_type": "markdown",
      "metadata": {
        "id": "2j_41MWa95E8"
      },
      "source": [
        "# Autolib Hypothesis Analysis"
      ]
    },
    {
      "cell_type": "markdown",
      "metadata": {
        "id": "d6QitdUe-EQu"
      },
      "source": [
        "## Reading the Data"
      ]
    },
    {
      "cell_type": "code",
      "metadata": {
        "id": "jI4lKMX9yeXW"
      },
      "source": [
        "## Importing our libraries\n",
        "import pandas as pd\n",
        "import numpy as np\n",
        "import seaborn as sns\n",
        "import matplotlib.pyplot as plt\n",
        "from scipy import stats\n",
        "from scipy.stats import ttest_ind"
      ],
      "execution_count": 1,
      "outputs": []
    },
    {
      "cell_type": "code",
      "metadata": {
        "colab": {
          "base_uri": "https://localhost:8080/",
          "height": 240
        },
        "id": "gV8AFQBJyleo",
        "outputId": "ffb6d87c-2ea8-4e7a-fff3-a0b659c76f5b"
      },
      "source": [
        "## Loading our csv file\n",
        "\n",
        "df = pd.read_csv('/content/autolib_daily_events_postal_code.csv')\n",
        "\n",
        "## Previewing the top of our dataset\n",
        "df.head()"
      ],
      "execution_count": 4,
      "outputs": [
        {
          "output_type": "execute_result",
          "data": {
            "text/html": [
              "<div>\n",
              "<style scoped>\n",
              "    .dataframe tbody tr th:only-of-type {\n",
              "        vertical-align: middle;\n",
              "    }\n",
              "\n",
              "    .dataframe tbody tr th {\n",
              "        vertical-align: top;\n",
              "    }\n",
              "\n",
              "    .dataframe thead th {\n",
              "        text-align: right;\n",
              "    }\n",
              "</style>\n",
              "<table border=\"1\" class=\"dataframe\">\n",
              "  <thead>\n",
              "    <tr style=\"text-align: right;\">\n",
              "      <th></th>\n",
              "      <th>Postal code</th>\n",
              "      <th>date</th>\n",
              "      <th>n_daily_data_points</th>\n",
              "      <th>dayOfWeek</th>\n",
              "      <th>day_type</th>\n",
              "      <th>BlueCars_taken_sum</th>\n",
              "      <th>BlueCars_returned_sum</th>\n",
              "      <th>Utilib_taken_sum</th>\n",
              "      <th>Utilib_returned_sum</th>\n",
              "      <th>Utilib_14_taken_sum</th>\n",
              "      <th>Utilib_14_returned_sum</th>\n",
              "      <th>Slots_freed_sum</th>\n",
              "      <th>Slots_taken_sum</th>\n",
              "    </tr>\n",
              "  </thead>\n",
              "  <tbody>\n",
              "    <tr>\n",
              "      <th>0</th>\n",
              "      <td>75001</td>\n",
              "      <td>1/1/2018</td>\n",
              "      <td>1440</td>\n",
              "      <td>0</td>\n",
              "      <td>weekday</td>\n",
              "      <td>110</td>\n",
              "      <td>103</td>\n",
              "      <td>3</td>\n",
              "      <td>2</td>\n",
              "      <td>10</td>\n",
              "      <td>9</td>\n",
              "      <td>22</td>\n",
              "      <td>20</td>\n",
              "    </tr>\n",
              "    <tr>\n",
              "      <th>1</th>\n",
              "      <td>75001</td>\n",
              "      <td>1/2/2018</td>\n",
              "      <td>1438</td>\n",
              "      <td>1</td>\n",
              "      <td>weekday</td>\n",
              "      <td>98</td>\n",
              "      <td>94</td>\n",
              "      <td>1</td>\n",
              "      <td>1</td>\n",
              "      <td>8</td>\n",
              "      <td>8</td>\n",
              "      <td>23</td>\n",
              "      <td>22</td>\n",
              "    </tr>\n",
              "    <tr>\n",
              "      <th>2</th>\n",
              "      <td>75001</td>\n",
              "      <td>1/3/2018</td>\n",
              "      <td>1439</td>\n",
              "      <td>2</td>\n",
              "      <td>weekday</td>\n",
              "      <td>138</td>\n",
              "      <td>139</td>\n",
              "      <td>0</td>\n",
              "      <td>0</td>\n",
              "      <td>2</td>\n",
              "      <td>2</td>\n",
              "      <td>27</td>\n",
              "      <td>27</td>\n",
              "    </tr>\n",
              "    <tr>\n",
              "      <th>3</th>\n",
              "      <td>75001</td>\n",
              "      <td>1/4/2018</td>\n",
              "      <td>1320</td>\n",
              "      <td>3</td>\n",
              "      <td>weekday</td>\n",
              "      <td>104</td>\n",
              "      <td>104</td>\n",
              "      <td>2</td>\n",
              "      <td>2</td>\n",
              "      <td>9</td>\n",
              "      <td>8</td>\n",
              "      <td>25</td>\n",
              "      <td>21</td>\n",
              "    </tr>\n",
              "    <tr>\n",
              "      <th>4</th>\n",
              "      <td>75001</td>\n",
              "      <td>1/5/2018</td>\n",
              "      <td>1440</td>\n",
              "      <td>4</td>\n",
              "      <td>weekday</td>\n",
              "      <td>114</td>\n",
              "      <td>117</td>\n",
              "      <td>3</td>\n",
              "      <td>3</td>\n",
              "      <td>6</td>\n",
              "      <td>6</td>\n",
              "      <td>18</td>\n",
              "      <td>20</td>\n",
              "    </tr>\n",
              "  </tbody>\n",
              "</table>\n",
              "</div>"
            ],
            "text/plain": [
              "   Postal code      date  ...  Slots_freed_sum  Slots_taken_sum\n",
              "0        75001  1/1/2018  ...               22               20\n",
              "1        75001  1/2/2018  ...               23               22\n",
              "2        75001  1/3/2018  ...               27               27\n",
              "3        75001  1/4/2018  ...               25               21\n",
              "4        75001  1/5/2018  ...               18               20\n",
              "\n",
              "[5 rows x 13 columns]"
            ]
          },
          "metadata": {},
          "execution_count": 4
        }
      ]
    },
    {
      "cell_type": "markdown",
      "metadata": {
        "id": "U_POpupeW6aB"
      },
      "source": [
        "### Creating a sample "
      ]
    },
    {
      "cell_type": "code",
      "metadata": {
        "colab": {
          "base_uri": "https://localhost:8080/"
        },
        "id": "uJpbST6XXZtQ",
        "outputId": "bb8b7360-bd4a-4c54-ff1a-16483005a3c9"
      },
      "source": [
        "# Stratified sample\n",
        "df_sample = df.groupby('dayOfWeek', group_keys=False).apply(lambda grouped_subset : grouped_subset.sample(frac=0.1))\n",
        "\n",
        "# proportion of the non_stratified sample\n",
        "print(df_sample['dayOfWeek'].value_counts())\n",
        "\n",
        "# Check the stratified output\n",
        "print(df_sample)"
      ],
      "execution_count": 5,
      "outputs": [
        {
          "output_type": "stream",
          "name": "stdout",
          "text": [
            "0    237\n",
            "1    236\n",
            "6    227\n",
            "5    227\n",
            "4    227\n",
            "3    227\n",
            "2    227\n",
            "Name: dayOfWeek, dtype: int64\n",
            "       Postal code       date  ...  Slots_freed_sum  Slots_taken_sum\n",
            "4825         92110  6/11/2018  ...                0                0\n",
            "9920         92800  4/23/2018  ...                9               10\n",
            "12608        93600  4/23/2018  ...                0                0\n",
            "4980         92120  6/11/2018  ...                0                0\n",
            "9788         92700  5/28/2018  ...                0                0\n",
            "...            ...        ...  ...              ...              ...\n",
            "1231         75008   6/3/2018  ...              146              147\n",
            "15399        94700   4/8/2018  ...                0                0\n",
            "2821         75019  1/14/2018  ...              168              177\n",
            "14197        94160   6/3/2018  ...                7                7\n",
            "2686         75018   2/4/2018  ...              131              136\n",
            "\n",
            "[1608 rows x 13 columns]\n"
          ]
        }
      ]
    },
    {
      "cell_type": "code",
      "metadata": {
        "colab": {
          "base_uri": "https://localhost:8080/"
        },
        "id": "CleMzj8P8FXa",
        "outputId": "0c0f8796-b4c3-4ceb-b6c9-8934d49e994d"
      },
      "source": [
        "df_sample.shape"
      ],
      "execution_count": 6,
      "outputs": [
        {
          "output_type": "execute_result",
          "data": {
            "text/plain": [
              "(1608, 13)"
            ]
          },
          "metadata": {},
          "execution_count": 6
        }
      ]
    },
    {
      "cell_type": "markdown",
      "metadata": {
        "id": "73lSYXpXGcwz"
      },
      "source": [
        "### Creating a new dataframe with our desired columns "
      ]
    },
    {
      "cell_type": "code",
      "metadata": {
        "colab": {
          "base_uri": "https://localhost:8080/",
          "height": 417
        },
        "id": "jl2xIkZrFco4",
        "outputId": "12863d9d-0c40-4746-f4da-f5a37e861098"
      },
      "source": [
        "## creating a dataframe with only the two days of the week that we are interested in\n",
        "df = df_sample[\"dayOfWeek\"].isin([\"0\",\"4\"])\n",
        "df = df_sample[df]\n",
        "df_new=df[['Postal code','date','day_type','dayOfWeek','Slots_taken_sum']]\n",
        "df_new"
      ],
      "execution_count": 12,
      "outputs": [
        {
          "output_type": "execute_result",
          "data": {
            "text/html": [
              "<div>\n",
              "<style scoped>\n",
              "    .dataframe tbody tr th:only-of-type {\n",
              "        vertical-align: middle;\n",
              "    }\n",
              "\n",
              "    .dataframe tbody tr th {\n",
              "        vertical-align: top;\n",
              "    }\n",
              "\n",
              "    .dataframe thead th {\n",
              "        text-align: right;\n",
              "    }\n",
              "</style>\n",
              "<table border=\"1\" class=\"dataframe\">\n",
              "  <thead>\n",
              "    <tr style=\"text-align: right;\">\n",
              "      <th></th>\n",
              "      <th>Postal code</th>\n",
              "      <th>date</th>\n",
              "      <th>day_type</th>\n",
              "      <th>dayOfWeek</th>\n",
              "      <th>Slots_taken_sum</th>\n",
              "    </tr>\n",
              "  </thead>\n",
              "  <tbody>\n",
              "    <tr>\n",
              "      <th>4825</th>\n",
              "      <td>92110</td>\n",
              "      <td>6/11/2018</td>\n",
              "      <td>weekday</td>\n",
              "      <td>0</td>\n",
              "      <td>0</td>\n",
              "    </tr>\n",
              "    <tr>\n",
              "      <th>9920</th>\n",
              "      <td>92800</td>\n",
              "      <td>4/23/2018</td>\n",
              "      <td>weekday</td>\n",
              "      <td>0</td>\n",
              "      <td>10</td>\n",
              "    </tr>\n",
              "    <tr>\n",
              "      <th>12608</th>\n",
              "      <td>93600</td>\n",
              "      <td>4/23/2018</td>\n",
              "      <td>weekday</td>\n",
              "      <td>0</td>\n",
              "      <td>0</td>\n",
              "    </tr>\n",
              "    <tr>\n",
              "      <th>4980</th>\n",
              "      <td>92120</td>\n",
              "      <td>6/11/2018</td>\n",
              "      <td>weekday</td>\n",
              "      <td>0</td>\n",
              "      <td>0</td>\n",
              "    </tr>\n",
              "    <tr>\n",
              "      <th>9788</th>\n",
              "      <td>92700</td>\n",
              "      <td>5/28/2018</td>\n",
              "      <td>weekday</td>\n",
              "      <td>0</td>\n",
              "      <td>0</td>\n",
              "    </tr>\n",
              "    <tr>\n",
              "      <th>...</th>\n",
              "      <td>...</td>\n",
              "      <td>...</td>\n",
              "      <td>...</td>\n",
              "      <td>...</td>\n",
              "      <td>...</td>\n",
              "    </tr>\n",
              "    <tr>\n",
              "      <th>8725</th>\n",
              "      <td>92390</td>\n",
              "      <td>1/5/2018</td>\n",
              "      <td>weekday</td>\n",
              "      <td>4</td>\n",
              "      <td>0</td>\n",
              "    </tr>\n",
              "    <tr>\n",
              "      <th>7109</th>\n",
              "      <td>92270</td>\n",
              "      <td>4/6/2018</td>\n",
              "      <td>weekday</td>\n",
              "      <td>4</td>\n",
              "      <td>0</td>\n",
              "    </tr>\n",
              "    <tr>\n",
              "      <th>3420</th>\n",
              "      <td>75116</td>\n",
              "      <td>6/8/2018</td>\n",
              "      <td>weekday</td>\n",
              "      <td>4</td>\n",
              "      <td>2</td>\n",
              "    </tr>\n",
              "    <tr>\n",
              "      <th>5757</th>\n",
              "      <td>92170</td>\n",
              "      <td>6/8/2018</td>\n",
              "      <td>weekday</td>\n",
              "      <td>4</td>\n",
              "      <td>0</td>\n",
              "    </tr>\n",
              "    <tr>\n",
              "      <th>12910</th>\n",
              "      <td>93800</td>\n",
              "      <td>4/13/2018</td>\n",
              "      <td>weekday</td>\n",
              "      <td>4</td>\n",
              "      <td>4</td>\n",
              "    </tr>\n",
              "  </tbody>\n",
              "</table>\n",
              "<p>464 rows × 5 columns</p>\n",
              "</div>"
            ],
            "text/plain": [
              "       Postal code       date day_type  dayOfWeek  Slots_taken_sum\n",
              "4825         92110  6/11/2018  weekday          0                0\n",
              "9920         92800  4/23/2018  weekday          0               10\n",
              "12608        93600  4/23/2018  weekday          0                0\n",
              "4980         92120  6/11/2018  weekday          0                0\n",
              "9788         92700  5/28/2018  weekday          0                0\n",
              "...            ...        ...      ...        ...              ...\n",
              "8725         92390   1/5/2018  weekday          4                0\n",
              "7109         92270   4/6/2018  weekday          4                0\n",
              "3420         75116   6/8/2018  weekday          4                2\n",
              "5757         92170   6/8/2018  weekday          4                0\n",
              "12910        93800  4/13/2018  weekday          4                4\n",
              "\n",
              "[464 rows x 5 columns]"
            ]
          },
          "metadata": {},
          "execution_count": 12
        }
      ]
    },
    {
      "cell_type": "markdown",
      "metadata": {
        "id": "0AV51zTd-9v0"
      },
      "source": [
        "## Tidying our Dataset"
      ]
    },
    {
      "cell_type": "markdown",
      "metadata": {
        "id": "tgd5AMT5Idc8"
      },
      "source": [
        "1. Consistency"
      ]
    },
    {
      "cell_type": "code",
      "metadata": {
        "colab": {
          "base_uri": "https://localhost:8080/"
        },
        "id": "zNU2Jqp8IgNN",
        "outputId": "6cce49d2-482b-452b-b0aa-66d303e67708"
      },
      "source": [
        "## Checking for duplicates\n",
        "df_new.duplicated().sum()"
      ],
      "execution_count": 13,
      "outputs": [
        {
          "output_type": "execute_result",
          "data": {
            "text/plain": [
              "0"
            ]
          },
          "metadata": {},
          "execution_count": 13
        }
      ]
    },
    {
      "cell_type": "markdown",
      "metadata": {
        "id": "DEqyAc3lJNlH"
      },
      "source": [
        "There are no duplicated records in our data. "
      ]
    },
    {
      "cell_type": "markdown",
      "metadata": {
        "id": "SYMpQohpJSSq"
      },
      "source": [
        "2. Completeness"
      ]
    },
    {
      "cell_type": "code",
      "metadata": {
        "colab": {
          "base_uri": "https://localhost:8080/"
        },
        "id": "uFx7-fZBJX_k",
        "outputId": "f2760506-b783-41b8-f370-6d09a0bb289b"
      },
      "source": [
        "df_new.isnull().sum()"
      ],
      "execution_count": 14,
      "outputs": [
        {
          "output_type": "execute_result",
          "data": {
            "text/plain": [
              "Postal code        0\n",
              "date               0\n",
              "day_type           0\n",
              "dayOfWeek          0\n",
              "Slots_taken_sum    0\n",
              "dtype: int64"
            ]
          },
          "metadata": {},
          "execution_count": 14
        }
      ]
    },
    {
      "cell_type": "markdown",
      "metadata": {
        "id": "2i2Rzn2VJeEC"
      },
      "source": [
        "There are no null values in our data. "
      ]
    },
    {
      "cell_type": "code",
      "metadata": {
        "id": "-3NbnMjq_EVz"
      },
      "source": [
        "# Checking for outliers\n",
        "## function to check for outliers using boxplots in the 3 numerical columns\n",
        "def check_outlier(column_name):\n",
        "  boxplot = sns.boxplot(df_new[column_name])\n",
        "  plt.title('Box Plot to Show Outliers')\n",
        "  return boxplot"
      ],
      "execution_count": 15,
      "outputs": []
    },
    {
      "cell_type": "code",
      "metadata": {
        "colab": {
          "base_uri": "https://localhost:8080/",
          "height": 366
        },
        "id": "RowgAHR6BHiq",
        "outputId": "e2fe0093-3a8e-4f96-bcd5-f054ea3e8fd7"
      },
      "source": [
        "check_outlier('Slots_taken_sum')"
      ],
      "execution_count": 16,
      "outputs": [
        {
          "output_type": "stream",
          "name": "stderr",
          "text": [
            "/usr/local/lib/python3.7/dist-packages/seaborn/_decorators.py:43: FutureWarning: Pass the following variable as a keyword arg: x. From version 0.12, the only valid positional argument will be `data`, and passing other arguments without an explicit keyword will result in an error or misinterpretation.\n",
            "  FutureWarning\n"
          ]
        },
        {
          "output_type": "execute_result",
          "data": {
            "text/plain": [
              "<matplotlib.axes._subplots.AxesSubplot at 0x7fcc9910c450>"
            ]
          },
          "metadata": {},
          "execution_count": 16
        },
        {
          "output_type": "display_data",
          "data": {
            "image/png": "[encoded data removed]",
            "text/plain": [
              "<Figure size 432x288 with 1 Axes>"
            ]
          },
          "metadata": {
            "needs_background": "light"
          }
        }
      ]
    },
    {
      "cell_type": "code",
      "metadata": {
        "id": "jNNaM_maAOQG"
      },
      "source": [
        "#Function to remove outliers using z-score\n",
        "def remove_outliers(data, col):\n",
        "    col_upper = data[col].mean() + 3*data[col].std()\n",
        "    col_lower = data[col].mean() - 3*data[col].std()\n",
        "    df = data[(data[col]< col_upper) & (data[col]> col_lower)]\n",
        "    return df"
      ],
      "execution_count": 17,
      "outputs": []
    },
    {
      "cell_type": "code",
      "metadata": {
        "colab": {
          "base_uri": "https://localhost:8080/"
        },
        "id": "kNIccsoa6fPR",
        "outputId": "8541ca40-6543-46c5-b9c9-6882d0475932"
      },
      "source": [
        "final_df = remove_outliers(df_new, 'Slots_taken_sum')\n",
        "final_df.shape\n"
      ],
      "execution_count": 18,
      "outputs": [
        {
          "output_type": "execute_result",
          "data": {
            "text/plain": [
              "(448, 5)"
            ]
          },
          "metadata": {},
          "execution_count": 18
        }
      ]
    },
    {
      "cell_type": "code",
      "metadata": {
        "colab": {
          "base_uri": "https://localhost:8080/"
        },
        "id": "dHdqbBcMq2ZV",
        "outputId": "25e1ba9b-58fb-4c12-f75f-2cfc3c5d4315"
      },
      "source": [
        "## Changing the data types \n",
        "final_df['date']=pd.to_datetime(final_df['date'])\n",
        "final_df['day_type']=pd.Categorical(final_df['day_type'])\n",
        "final_df['dayOfWeek']=pd.Categorical(final_df['dayOfWeek'])"
      ],
      "execution_count": 19,
      "outputs": [
        {
          "output_type": "stream",
          "name": "stderr",
          "text": [
            "/usr/local/lib/python3.7/dist-packages/ipykernel_launcher.py:2: SettingWithCopyWarning: \n",
            "A value is trying to be set on a copy of a slice from a DataFrame.\n",
            "Try using .loc[row_indexer,col_indexer] = value instead\n",
            "\n",
            "See the caveats in the documentation: https://pandas.pydata.org/pandas-docs/stable/user_guide/indexing.html#returning-a-view-versus-a-copy\n",
            "  \n",
            "/usr/local/lib/python3.7/dist-packages/ipykernel_launcher.py:3: SettingWithCopyWarning: \n",
            "A value is trying to be set on a copy of a slice from a DataFrame.\n",
            "Try using .loc[row_indexer,col_indexer] = value instead\n",
            "\n",
            "See the caveats in the documentation: https://pandas.pydata.org/pandas-docs/stable/user_guide/indexing.html#returning-a-view-versus-a-copy\n",
            "  This is separate from the ipykernel package so we can avoid doing imports until\n",
            "/usr/local/lib/python3.7/dist-packages/ipykernel_launcher.py:4: SettingWithCopyWarning: \n",
            "A value is trying to be set on a copy of a slice from a DataFrame.\n",
            "Try using .loc[row_indexer,col_indexer] = value instead\n",
            "\n",
            "See the caveats in the documentation: https://pandas.pydata.org/pandas-docs/stable/user_guide/indexing.html#returning-a-view-versus-a-copy\n",
            "  after removing the cwd from sys.path.\n"
          ]
        }
      ]
    },
    {
      "cell_type": "code",
      "metadata": {
        "colab": {
          "base_uri": "https://localhost:8080/"
        },
        "id": "3gL5QhvErNKO",
        "outputId": "08c409c6-1a46-4b9c-e821-44431d29ffcf"
      },
      "source": [
        "final_df.dtypes"
      ],
      "execution_count": 20,
      "outputs": [
        {
          "output_type": "execute_result",
          "data": {
            "text/plain": [
              "Postal code                 int64\n",
              "date               datetime64[ns]\n",
              "day_type                 category\n",
              "dayOfWeek                category\n",
              "Slots_taken_sum             int64\n",
              "dtype: object"
            ]
          },
          "metadata": {},
          "execution_count": 20
        }
      ]
    },
    {
      "cell_type": "markdown",
      "metadata": {
        "id": "AtBMXnld8dyq"
      },
      "source": [
        "## UNIVARIATE ANALYSIS"
      ]
    },
    {
      "cell_type": "markdown",
      "metadata": {
        "id": "KBRPPqPZ81CB"
      },
      "source": [
        "## Central Tendency "
      ]
    },
    {
      "cell_type": "markdown",
      "metadata": {
        "id": "a4FVVhA2H08R"
      },
      "source": [
        "### Median"
      ]
    },
    {
      "cell_type": "code",
      "metadata": {
        "colab": {
          "base_uri": "https://localhost:8080/"
        },
        "id": "JYhDn51oH5dr",
        "outputId": "963e355c-1c40-4e5a-aa13-c0ecfad776f5"
      },
      "source": [
        "final_df['Slots_taken_sum'].min()"
      ],
      "execution_count": 22,
      "outputs": [
        {
          "output_type": "execute_result",
          "data": {
            "text/plain": [
              "0"
            ]
          },
          "metadata": {},
          "execution_count": 22
        }
      ]
    },
    {
      "cell_type": "markdown",
      "metadata": {
        "id": "qwp1sU_T89EM"
      },
      "source": [
        "### Mode"
      ]
    },
    {
      "cell_type": "code",
      "metadata": {
        "colab": {
          "base_uri": "https://localhost:8080/"
        },
        "id": "_E1FAyTx9EI-",
        "outputId": "873b6517-edd8-4c68-be69-bf64feee8fd2"
      },
      "source": [
        "final_df['Slots_taken_sum'].mode()"
      ],
      "execution_count": 23,
      "outputs": [
        {
          "output_type": "execute_result",
          "data": {
            "text/plain": [
              "0    0\n",
              "dtype: int64"
            ]
          },
          "metadata": {},
          "execution_count": 23
        }
      ]
    },
    {
      "cell_type": "markdown",
      "metadata": {
        "id": "iHJLjpeSIUXA"
      },
      "source": [
        "## Dispersion"
      ]
    },
    {
      "cell_type": "markdown",
      "metadata": {
        "id": "aGJWdJxAIg6n"
      },
      "source": [
        "### Variance"
      ]
    },
    {
      "cell_type": "code",
      "metadata": {
        "colab": {
          "base_uri": "https://localhost:8080/"
        },
        "id": "m8rlSrdIIY5M",
        "outputId": "4c4d9666-425d-41e0-fc33-8b57a8194292"
      },
      "source": [
        "final_df['Slots_taken_sum'].var()"
      ],
      "execution_count": 25,
      "outputs": [
        {
          "output_type": "execute_result",
          "data": {
            "text/plain": [
              "1311.7583093640114"
            ]
          },
          "metadata": {},
          "execution_count": 25
        }
      ]
    },
    {
      "cell_type": "markdown",
      "metadata": {
        "id": "y1COd5BmIuut"
      },
      "source": [
        "### Standard Deviation"
      ]
    },
    {
      "cell_type": "code",
      "metadata": {
        "colab": {
          "base_uri": "https://localhost:8080/"
        },
        "id": "xpBUXOm5Ixah",
        "outputId": "c0e9c500-b7ce-4233-9cf8-de73be347c89"
      },
      "source": [
        "final_df['Slots_taken_sum'].std()"
      ],
      "execution_count": 26,
      "outputs": [
        {
          "output_type": "execute_result",
          "data": {
            "text/plain": [
              "36.21820411566553"
            ]
          },
          "metadata": {},
          "execution_count": 26
        }
      ]
    },
    {
      "cell_type": "markdown",
      "metadata": {
        "id": "KrebldHzI2Sx"
      },
      "source": [
        "### Skewness"
      ]
    },
    {
      "cell_type": "code",
      "metadata": {
        "colab": {
          "base_uri": "https://localhost:8080/"
        },
        "id": "vjwWhkmDI58p",
        "outputId": "45ac7185-5684-49d9-e077-709d93864f9e"
      },
      "source": [
        "final_df['Slots_taken_sum'].skew()"
      ],
      "execution_count": 27,
      "outputs": [
        {
          "output_type": "execute_result",
          "data": {
            "text/plain": [
              "2.469194349172626"
            ]
          },
          "metadata": {},
          "execution_count": 27
        }
      ]
    },
    {
      "cell_type": "markdown",
      "metadata": {
        "id": "yiE1hXAXJEVG"
      },
      "source": [
        "### Kurtosis"
      ]
    },
    {
      "cell_type": "code",
      "metadata": {
        "colab": {
          "base_uri": "https://localhost:8080/"
        },
        "id": "8_FQsZ0wJGol",
        "outputId": "ff097df7-a309-4a2d-9b39-b7c7378603f7"
      },
      "source": [
        "final_df['Slots_taken_sum'].kurt()"
      ],
      "execution_count": 28,
      "outputs": [
        {
          "output_type": "execute_result",
          "data": {
            "text/plain": [
              "5.026985645999799"
            ]
          },
          "metadata": {},
          "execution_count": 28
        }
      ]
    },
    {
      "cell_type": "markdown",
      "metadata": {
        "id": "TB-8CysZPQdU"
      },
      "source": [
        "### Data Distribution"
      ]
    },
    {
      "cell_type": "code",
      "metadata": {
        "colab": {
          "base_uri": "https://localhost:8080/",
          "height": 265
        },
        "id": "98fF4wpF-eVg",
        "outputId": "f9b7ab97-5447-47fe-c708-0ec032750313"
      },
      "source": [
        "from matplotlib import pyplot\n",
        "\n",
        "column = df['Slots_taken_sum']\n",
        "pyplot.hist(column)\n",
        "pyplot.show()"
      ],
      "execution_count": 29,
      "outputs": [
        {
          "output_type": "display_data",
          "data": {
            "image/png": "[encoded data removed]",
            "text/plain": [
              "<Figure size 432x288 with 1 Axes>"
            ]
          },
          "metadata": {
            "needs_background": "light"
          }
        }
      ]
    },
    {
      "cell_type": "markdown",
      "metadata": {
        "id": "ITFYvuhjSoWj"
      },
      "source": [
        "### Univariate Plots"
      ]
    },
    {
      "cell_type": "code",
      "metadata": {
        "colab": {
          "base_uri": "https://localhost:8080/",
          "height": 482
        },
        "id": "3b9UxpuRRm2E",
        "outputId": "312ea47b-869a-4dd3-8846-7a5ea71c0f96"
      },
      "source": [
        "final_df['dayOfWeek'].value_counts().plot(kind='pie',figsize=(8,8),autopct='%1.3f%%')\n",
        "plt.title('Distribution of observations in the two days')\n",
        "plt.show()"
      ],
      "execution_count": null,
      "outputs": [
        {
          "output_type": "display_data",
          "data": {
            "image/png": "[encoded data removed]",
            "text/plain": [
              "<Figure size 576x576 with 1 Axes>"
            ]
          },
          "metadata": {}
        }
      ]
    },
    {
      "cell_type": "code",
      "metadata": {
        "colab": {
          "base_uri": "https://localhost:8080/",
          "height": 444
        },
        "id": "Y0fM5X2JS8o7",
        "outputId": "7c58ce95-2296-468a-8138-a216382d248d"
      },
      "source": [
        "final_df.Slots_taken_sum.plot(kind='kde',figsize=(7,7))\n",
        "plt.title('Distribution of Charging Slots Taken')\n",
        "plt.show()"
      ],
      "execution_count": null,
      "outputs": [
        {
          "output_type": "display_data",
          "data": {
            "image/png": "[encoded data removed]",
            "text/plain": [
              "<Figure size 504x504 with 1 Axes>"
            ]
          },
          "metadata": {
            "needs_background": "light"
          }
        }
      ]
    },
    {
      "cell_type": "code",
      "metadata": {
        "colab": {
          "base_uri": "https://localhost:8080/",
          "height": 417
        },
        "id": "iEURPat-RhRY",
        "outputId": "e08f1c85-7c56-4a5e-b441-5fa67a550da6"
      },
      "source": [
        "final_df"
      ],
      "execution_count": null,
      "outputs": [
        {
          "output_type": "execute_result",
          "data": {
            "text/html": [
              "<div>\n",
              "<style scoped>\n",
              "    .dataframe tbody tr th:only-of-type {\n",
              "        vertical-align: middle;\n",
              "    }\n",
              "\n",
              "    .dataframe tbody tr th {\n",
              "        vertical-align: top;\n",
              "    }\n",
              "\n",
              "    .dataframe thead th {\n",
              "        text-align: right;\n",
              "    }\n",
              "</style>\n",
              "<table border=\"1\" class=\"dataframe\">\n",
              "  <thead>\n",
              "    <tr style=\"text-align: right;\">\n",
              "      <th></th>\n",
              "      <th>Postal code</th>\n",
              "      <th>date</th>\n",
              "      <th>day_type</th>\n",
              "      <th>dayOfWeek</th>\n",
              "      <th>Slots_taken_sum</th>\n",
              "    </tr>\n",
              "  </thead>\n",
              "  <tbody>\n",
              "    <tr>\n",
              "      <th>10956</th>\n",
              "      <td>93230</td>\n",
              "      <td>4/2/2018</td>\n",
              "      <td>weekday</td>\n",
              "      <td>0</td>\n",
              "      <td>0</td>\n",
              "    </tr>\n",
              "    <tr>\n",
              "      <th>1215</th>\n",
              "      <td>75008</td>\n",
              "      <td>5/7/2018</td>\n",
              "      <td>weekday</td>\n",
              "      <td>0</td>\n",
              "      <td>139</td>\n",
              "    </tr>\n",
              "    <tr>\n",
              "      <th>2137</th>\n",
              "      <td>75014</td>\n",
              "      <td>4/23/2018</td>\n",
              "      <td>weekday</td>\n",
              "      <td>0</td>\n",
              "      <td>79</td>\n",
              "    </tr>\n",
              "    <tr>\n",
              "      <th>12587</th>\n",
              "      <td>93600</td>\n",
              "      <td>4/2/2018</td>\n",
              "      <td>weekday</td>\n",
              "      <td>0</td>\n",
              "      <td>0</td>\n",
              "    </tr>\n",
              "    <tr>\n",
              "      <th>13543</th>\n",
              "      <td>94120</td>\n",
              "      <td>4/23/2018</td>\n",
              "      <td>weekday</td>\n",
              "      <td>0</td>\n",
              "      <td>0</td>\n",
              "    </tr>\n",
              "    <tr>\n",
              "      <th>...</th>\n",
              "      <td>...</td>\n",
              "      <td>...</td>\n",
              "      <td>...</td>\n",
              "      <td>...</td>\n",
              "      <td>...</td>\n",
              "    </tr>\n",
              "    <tr>\n",
              "      <th>10804</th>\n",
              "      <td>93200</td>\n",
              "      <td>4/6/2018</td>\n",
              "      <td>weekday</td>\n",
              "      <td>4</td>\n",
              "      <td>0</td>\n",
              "    </tr>\n",
              "    <tr>\n",
              "      <th>12100</th>\n",
              "      <td>93400</td>\n",
              "      <td>3/9/2018</td>\n",
              "      <td>weekday</td>\n",
              "      <td>4</td>\n",
              "      <td>0</td>\n",
              "    </tr>\n",
              "    <tr>\n",
              "      <th>5826</th>\n",
              "      <td>92190</td>\n",
              "      <td>3/2/2018</td>\n",
              "      <td>weekday</td>\n",
              "      <td>4</td>\n",
              "      <td>0</td>\n",
              "    </tr>\n",
              "    <tr>\n",
              "      <th>1617</th>\n",
              "      <td>75011</td>\n",
              "      <td>3/2/2018</td>\n",
              "      <td>weekday</td>\n",
              "      <td>4</td>\n",
              "      <td>125</td>\n",
              "    </tr>\n",
              "    <tr>\n",
              "      <th>14306</th>\n",
              "      <td>94220</td>\n",
              "      <td>4/6/2018</td>\n",
              "      <td>weekday</td>\n",
              "      <td>4</td>\n",
              "      <td>0</td>\n",
              "    </tr>\n",
              "  </tbody>\n",
              "</table>\n",
              "<p>456 rows × 5 columns</p>\n",
              "</div>"
            ],
            "text/plain": [
              "       Postal code       date day_type  dayOfWeek  Slots_taken_sum\n",
              "10956        93230   4/2/2018  weekday          0                0\n",
              "1215         75008   5/7/2018  weekday          0              139\n",
              "2137         75014  4/23/2018  weekday          0               79\n",
              "12587        93600   4/2/2018  weekday          0                0\n",
              "13543        94120  4/23/2018  weekday          0                0\n",
              "...            ...        ...      ...        ...              ...\n",
              "10804        93200   4/6/2018  weekday          4                0\n",
              "12100        93400   3/9/2018  weekday          4                0\n",
              "5826         92190   3/2/2018  weekday          4                0\n",
              "1617         75011   3/2/2018  weekday          4              125\n",
              "14306        94220   4/6/2018  weekday          4                0\n",
              "\n",
              "[456 rows x 5 columns]"
            ]
          },
          "metadata": {},
          "execution_count": 86
        }
      ]
    },
    {
      "cell_type": "markdown",
      "metadata": {
        "id": "8BI-9rBjJySx"
      },
      "source": [
        "## BIVARIATE ANALYSIS"
      ]
    },
    {
      "cell_type": "code",
      "metadata": {
        "colab": {
          "base_uri": "https://localhost:8080/",
          "height": 110
        },
        "id": "nmWLL3BEV2Js",
        "outputId": "bb31b779-cff7-450d-ffad-c2330b079b2e"
      },
      "source": [
        "final_df[['dayOfWeek','Slots_taken_sum']].corr()\n"
      ],
      "execution_count": null,
      "outputs": [
        {
          "output_type": "execute_result",
          "data": {
            "text/html": [
              "<div>\n",
              "<style scoped>\n",
              "    .dataframe tbody tr th:only-of-type {\n",
              "        vertical-align: middle;\n",
              "    }\n",
              "\n",
              "    .dataframe tbody tr th {\n",
              "        vertical-align: top;\n",
              "    }\n",
              "\n",
              "    .dataframe thead th {\n",
              "        text-align: right;\n",
              "    }\n",
              "</style>\n",
              "<table border=\"1\" class=\"dataframe\">\n",
              "  <thead>\n",
              "    <tr style=\"text-align: right;\">\n",
              "      <th></th>\n",
              "      <th>dayOfWeek</th>\n",
              "      <th>Slots_taken_sum</th>\n",
              "    </tr>\n",
              "  </thead>\n",
              "  <tbody>\n",
              "    <tr>\n",
              "      <th>dayOfWeek</th>\n",
              "      <td>1.000000</td>\n",
              "      <td>0.035878</td>\n",
              "    </tr>\n",
              "    <tr>\n",
              "      <th>Slots_taken_sum</th>\n",
              "      <td>0.035878</td>\n",
              "      <td>1.000000</td>\n",
              "    </tr>\n",
              "  </tbody>\n",
              "</table>\n",
              "</div>"
            ],
            "text/plain": [
              "                 dayOfWeek  Slots_taken_sum\n",
              "dayOfWeek         1.000000         0.035878\n",
              "Slots_taken_sum   0.035878         1.000000"
            ]
          },
          "metadata": {},
          "execution_count": 91
        }
      ]
    },
    {
      "cell_type": "code",
      "metadata": {
        "colab": {
          "base_uri": "https://localhost:8080/",
          "height": 550
        },
        "id": "1RgZ1drZXffC",
        "outputId": "62cb7f5c-c5af-46cd-f2a6-68d13a7bf529"
      },
      "source": [
        "sns.pairplot(final_df)\n",
        "plt.show()"
      ],
      "execution_count": null,
      "outputs": [
        {
          "output_type": "display_data",
          "data": {
            "image/png": "[encoded data removed]",
            "text/plain": [
              "<Figure size 540x540 with 12 Axes>"
            ]
          },
          "metadata": {
            "needs_background": "light"
          }
        }
      ]
    },
    {
      "cell_type": "markdown",
      "metadata": {
        "id": "PwMVTAHpa5rR"
      },
      "source": [
        "## Hypothesis Testing"
      ]
    },
    {
      "cell_type": "markdown",
      "metadata": {
        "id": "pT2IdQ4ecIG5"
      },
      "source": [
        "***Is there a statistical difference between the charging slots taken on Monday and Friday?***\n",
        "\n",
        "H0: The mean number of charging slots on Monday and Friday are the same.\n",
        "\n",
        "H1: The mean number of charging slots on Monday and Friday are different.\n",
        "\n",
        "The alpha α = 0.05\n",
        "\n",
        "\n",
        "\n",
        "* Decision Rule : Reject Null if P-value< 0.05\n",
        "\n",
        "\n",
        "\n",
        "\n"
      ]
    },
    {
      "cell_type": "code",
      "metadata": {
        "colab": {
          "base_uri": "https://localhost:8080/"
        },
        "id": "35lxSNDza-mS",
        "outputId": "268f869f-3804-4907-cb14-754ff45c934f"
      },
      "source": [
        "from scipy.stats import ttest_ind\n",
        "monday=final_df[final_df['dayOfWeek']=='0']\n",
        "friday=final_df[final_df['dayOfWeek']=='4']\n",
        "\n",
        "stats.ttest_ind(monday['Slots_taken_sum'],friday['Slots_taken_sum'], nan_policy='omit')"
      ],
      "execution_count": 35,
      "outputs": [
        {
          "output_type": "execute_result",
          "data": {
            "text/plain": [
              "Ttest_indResult(statistic=-0.9316007531505365, pvalue=0.37348767854679377)"
            ]
          },
          "metadata": {},
          "execution_count": 35
        }
      ]
    },
    {
      "cell_type": "markdown",
      "metadata": {
        "id": "HdBLEg1eS4kj"
      },
      "source": [
        "* The p-value is greater than 0.05, we therefore fail to reject the null\n",
        "hypothesis. \n",
        "* This means that there is a similarity between the number of taken charging slots on Monday and Tuesday. \n"
      ]
    }
  ]
}